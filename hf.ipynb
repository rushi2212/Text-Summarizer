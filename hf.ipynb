{
 "cells": [
  {
   "cell_type": "code",
   "execution_count": 1,
   "id": "763915cc",
   "metadata": {},
   "outputs": [
    {
     "name": "stderr",
     "output_type": "stream",
     "text": [
      "\n",
      "[notice] A new release of pip is available: 25.1.1 -> 25.2\n",
      "[notice] To update, run: python.exe -m pip install --upgrade pip\n"
     ]
    }
   ],
   "source": [
    "# 🧠 Text Summarizer using Hugging Face Transformers\n",
    "# -------------------------------------------------\n",
    "# Works on CPU and summarizes text instantly.\n",
    "\n",
    "# ✅ Install dependencies\n",
    "!pip install transformers tf-keras torch -q\n"
   ]
  },
  {
   "cell_type": "code",
   "execution_count": 2,
   "id": "645679d6",
   "metadata": {},
   "outputs": [
    {
     "name": "stderr",
     "output_type": "stream",
     "text": [
      "c:\\Users\\rushi\\OneDrive\\Documents\\AI\\venv\\Lib\\site-packages\\tqdm\\auto.py:21: TqdmWarning: IProgress not found. Please update jupyter and ipywidgets. See https://ipywidgets.readthedocs.io/en/stable/user_install.html\n",
      "  from .autonotebook import tqdm as notebook_tqdm\n"
     ]
    },
    {
     "name": "stdout",
     "output_type": "stream",
     "text": [
      "WARNING:tensorflow:From c:\\Users\\rushi\\OneDrive\\Documents\\AI\\venv\\Lib\\site-packages\\tf_keras\\src\\losses.py:2976: The name tf.losses.sparse_softmax_cross_entropy is deprecated. Please use tf.compat.v1.losses.sparse_softmax_cross_entropy instead.\n",
      "\n"
     ]
    },
    {
     "name": "stderr",
     "output_type": "stream",
     "text": [
      "Device set to use cpu\n"
     ]
    }
   ],
   "source": [
    "# ✅ Import libraries\n",
    "from transformers import pipeline\n",
    "\n",
    "# Load summarization model (BART Large CNN)\n",
    "summarizer = pipeline(\"summarization\", model=\"facebook/bart-large-cnn\")\n"
   ]
  },
  {
   "cell_type": "code",
   "execution_count": 3,
   "id": "87ba4b79",
   "metadata": {},
   "outputs": [
    {
     "name": "stdout",
     "output_type": "stream",
     "text": [
      "\n",
      "📝 Summary:\n",
      " Artificial Intelligence (AI) has become an integral part of modern technology. From healthcare and education to finance and entertainment, AI-powered systems are enhancing efficiency, accuracy, and personalization. Experts emphasize the need for responsible AI development that prioritizes transparency, fairness, and accountability.\n"
     ]
    }
   ],
   "source": [
    "# ✅ Take text input from user\n",
    "text = input(\"Enter text to summarize:\\n\\n\")\n",
    "\n",
    "if text.strip():\n",
    "    summary = summarizer(text, max_length=120, min_length=30, do_sample=False)\n",
    "    print(\"\\n📝 Summary:\\n\", summary[0]['summary_text'])\n",
    "else:\n",
    "    print(\"⚠️ No text entered.\")\n"
   ]
  }
 ],
 "metadata": {
  "kernelspec": {
   "display_name": "venv",
   "language": "python",
   "name": "python3"
  },
  "language_info": {
   "codemirror_mode": {
    "name": "ipython",
    "version": 3
   },
   "file_extension": ".py",
   "mimetype": "text/x-python",
   "name": "python",
   "nbconvert_exporter": "python",
   "pygments_lexer": "ipython3",
   "version": "3.13.5"
  }
 },
 "nbformat": 4,
 "nbformat_minor": 5
}
