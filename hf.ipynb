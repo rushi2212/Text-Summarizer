{
 "cells": [
  {
   "cell_type": "code",
   "execution_count": 1,
   "id": "763915cc",
   "metadata": {},
   "outputs": [
    {
     "name": "stderr",
     "output_type": "stream",
     "text": [
      "\n",
      "[notice] A new release of pip is available: 25.1.1 -> 25.2\n",
      "[notice] To update, run: python.exe -m pip install --upgrade pip\n"
     ]
    }
   ],
   "source": [
    "# 🧠 Text Summarizer using Hugging Face Transformers\n",
    "# -------------------------------------------------\n",
    "# Works on CPU and summarizes text instantly.\n",
    "\n",
    "# ✅ Install dependencies\n",
    "!pip install transformers tf-keras torch -q\n"
   ]
  },
  {
   "cell_type": "code",
   "execution_count": null,
   "id": "051f8436",
   "metadata": {},
   "outputs": [],
   "source": [
    "# ✅ Import libraries\n",
    "from transformers import pipeline\n",
    "\n",
    "# Load summarization model (BART Large CNN)\n",
    "summarizer = pipeline(\"summarization\", model=\"facebook/bart-large-cnn\")\n"
   ]
  },
  {
   "cell_type": "code",
   "execution_count": null,
   "id": "1a7c9ca7",
   "metadata": {},
   "outputs": [],
   "source": [
    "# ✅ Take text input from user\n",
    "text = input(\"Enter text to summarize:\\n\\n\")\n",
    "\n",
    "if text.strip():\n",
    "    summary = summarizer(text, max_length=120, min_length=30, do_sample=False)\n",
    "    print(\"\\n📝 Summary:\\n\", summary[0]['summary_text'])\n",
    "else:\n",
    "    print(\"⚠️ No text entered.\")\n"
   ]
  }
 ],
 "metadata": {
  "kernelspec": {
   "display_name": "venv",
   "language": "python",
   "name": "python3"
  },
  "language_info": {
   "codemirror_mode": {
    "name": "ipython",
    "version": 3
   },
   "file_extension": ".py",
   "mimetype": "text/x-python",
   "name": "python",
   "nbconvert_exporter": "python",
   "pygments_lexer": "ipython3",
   "version": "3.13.5"
  }
 },
 "nbformat": 4,
 "nbformat_minor": 5
}
